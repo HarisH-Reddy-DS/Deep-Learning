{
 "cells": [
  {
   "cell_type": "markdown",
   "metadata": {},
   "source": [
    "# Detecting Malaria using convolutional neural network"
   ]
  },
  {
   "cell_type": "markdown",
   "metadata": {},
   "source": [
    "\n",
    "The dataset contains 2 folders - Infected - Uninfected\n",
    "\n",
    "And a total of 27,558 images.\n",
    "\n",
    "to download the dataset and to know more about it click [here](https://lhncbc.nlm.nih.gov/publication/pub9932)\n",
    "\n",
    "\n"
   ]
  },
  {
   "cell_type": "code",
   "execution_count": 1,
   "metadata": {},
   "outputs": [
    {
     "name": "stderr",
     "output_type": "stream",
     "text": [
      "Using TensorFlow backend.\n"
     ]
    }
   ],
   "source": [
    "#importing libraries\n",
    "\n",
    "import numpy as np\n",
    "from keras.models import Sequential\n",
    "from keras.layers import Convolution2D\n",
    "from keras.layers import MaxPooling2D\n",
    "from keras.layers import Flatten\n",
    "from keras.layers import Dense\n",
    "from keras.preprocessing import image\n",
    "import warnings\n",
    "warnings.filterwarnings('ignore')"
   ]
  },
  {
   "cell_type": "code",
   "execution_count": 2,
   "metadata": {},
   "outputs": [
    {
     "name": "stderr",
     "output_type": "stream",
     "text": [
      "WARNING: Logging before flag parsing goes to stderr.\n",
      "W1222 17:51:49.588919  5652 deprecation_wrapper.py:119] From C:\\Users\\user\\.conda\\envs\\DL\\lib\\site-packages\\keras\\backend\\tensorflow_backend.py:74: The name tf.get_default_graph is deprecated. Please use tf.compat.v1.get_default_graph instead.\n",
      "\n"
     ]
    }
   ],
   "source": [
    "# initialising the CNN\n",
    "classifier = Sequential()"
   ]
  },
  {
   "cell_type": "code",
   "execution_count": 3,
   "metadata": {},
   "outputs": [
    {
     "name": "stderr",
     "output_type": "stream",
     "text": [
      "W1222 17:51:50.672018  5652 deprecation_wrapper.py:119] From C:\\Users\\user\\.conda\\envs\\DL\\lib\\site-packages\\keras\\backend\\tensorflow_backend.py:517: The name tf.placeholder is deprecated. Please use tf.compat.v1.placeholder instead.\n",
      "\n",
      "W1222 17:51:51.471877  5652 deprecation_wrapper.py:119] From C:\\Users\\user\\.conda\\envs\\DL\\lib\\site-packages\\keras\\backend\\tensorflow_backend.py:4138: The name tf.random_uniform is deprecated. Please use tf.random.uniform instead.\n",
      "\n",
      "W1222 17:51:53.320929  5652 deprecation_wrapper.py:119] From C:\\Users\\user\\.conda\\envs\\DL\\lib\\site-packages\\keras\\backend\\tensorflow_backend.py:3976: The name tf.nn.max_pool is deprecated. Please use tf.nn.max_pool2d instead.\n",
      "\n"
     ]
    }
   ],
   "source": [
    "#step 1 Convolution\n",
    "classifier.add(Convolution2D(32, 3, 3, input_shape= (64, 64, 3), activation = 'relu'))\n",
    "\n",
    "#step 2 - Pooling\n",
    "classifier.add(MaxPooling2D(pool_size = (2,2)))\n",
    "\n",
    "#2nd layer\n",
    "classifier.add(Convolution2D(32, 3, 3, activation = 'relu'))\n",
    "classifier.add(MaxPooling2D(pool_size = (2,2)))\n",
    "\n",
    "#step 3 - Flattening\n",
    "classifier.add(Flatten())\n",
    "\n",
    "#step-4 Full connection\n",
    "classifier.add(Dense(output_dim = 128, activation = 'relu'))\n",
    "classifier.add(Dense(output_dim = 1, activation = 'sigmoid'))\n"
   ]
  },
  {
   "cell_type": "code",
   "execution_count": 4,
   "metadata": {},
   "outputs": [
    {
     "name": "stderr",
     "output_type": "stream",
     "text": [
      "W1222 17:51:53.725846  5652 deprecation_wrapper.py:119] From C:\\Users\\user\\.conda\\envs\\DL\\lib\\site-packages\\keras\\optimizers.py:790: The name tf.train.Optimizer is deprecated. Please use tf.compat.v1.train.Optimizer instead.\n",
      "\n",
      "W1222 17:51:53.807626  5652 deprecation_wrapper.py:119] From C:\\Users\\user\\.conda\\envs\\DL\\lib\\site-packages\\keras\\backend\\tensorflow_backend.py:3376: The name tf.log is deprecated. Please use tf.math.log instead.\n",
      "\n",
      "W1222 17:51:53.931297  5652 deprecation.py:323] From C:\\Users\\user\\.conda\\envs\\DL\\lib\\site-packages\\tensorflow\\python\\ops\\nn_impl.py:180: add_dispatch_support.<locals>.wrapper (from tensorflow.python.ops.array_ops) is deprecated and will be removed in a future version.\n",
      "Instructions for updating:\n",
      "Use tf.where in 2.0, which has the same broadcast rule as np.where\n"
     ]
    }
   ],
   "source": [
    "# compile the CNN\n",
    "classifier.compile(optimizer = 'adam', loss = 'binary_crossentropy', metrics = ['accuracy'])"
   ]
  },
  {
   "cell_type": "code",
   "execution_count": 5,
   "metadata": {},
   "outputs": [],
   "source": [
    "from keras.preprocessing.image import ImageDataGenerator\n",
    "\n",
    "train_datagen = ImageDataGenerator(rescale = 1./255,\n",
    "                                  shear_range = 0.2,\n",
    "                                  zoom_range = 0.2,\n",
    "                                  horizontal_flip = True)\n",
    "\n",
    "test_datagen = ImageDataGenerator(rescale = 1./255)"
   ]
  },
  {
   "cell_type": "code",
   "execution_count": 6,
   "metadata": {},
   "outputs": [
    {
     "name": "stdout",
     "output_type": "stream",
     "text": [
      "Found 22046 images belonging to 2 classes.\n"
     ]
    }
   ],
   "source": [
    "training_set = train_datagen.flow_from_directory('cell_images/train',\n",
    "                                                target_size = (64, 64),\n",
    "                                                batch_size = 32,\n",
    "                                                class_mode = 'binary')"
   ]
  },
  {
   "cell_type": "code",
   "execution_count": 7,
   "metadata": {},
   "outputs": [
    {
     "name": "stdout",
     "output_type": "stream",
     "text": [
      "Found 5512 images belonging to 2 classes.\n"
     ]
    }
   ],
   "source": [
    "test_set = test_datagen.flow_from_directory('cell_images/valid',\n",
    "                                                target_size = (64, 64),\n",
    "                                                batch_size = 32,\n",
    "                                                class_mode = 'binary')"
   ]
  },
  {
   "cell_type": "code",
   "execution_count": 8,
   "metadata": {},
   "outputs": [
    {
     "name": "stderr",
     "output_type": "stream",
     "text": [
      "W1222 17:52:01.757350  5652 deprecation_wrapper.py:119] From C:\\Users\\user\\.conda\\envs\\DL\\lib\\site-packages\\keras\\backend\\tensorflow_backend.py:986: The name tf.assign_add is deprecated. Please use tf.compat.v1.assign_add instead.\n",
      "\n"
     ]
    },
    {
     "name": "stdout",
     "output_type": "stream",
     "text": [
      "Epoch 1/25\n",
      "250/250 [==============================] - 773s 3s/step - loss: 0.6885 - acc: 0.5444 - val_loss: 0.6659 - val_acc: 0.5917\n",
      "Epoch 2/25\n",
      "250/250 [==============================] - 198s 792ms/step - loss: 0.6659 - acc: 0.5945 - val_loss: 0.6292 - val_acc: 0.6337\n",
      "Epoch 3/25\n",
      "250/250 [==============================] - 225s 902ms/step - loss: 0.6354 - acc: 0.6393 - val_loss: 0.5512 - val_acc: 0.7282\n",
      "Epoch 4/25\n",
      "250/250 [==============================] - 111s 446ms/step - loss: 0.5747 - acc: 0.7047 - val_loss: 0.4897 - val_acc: 0.7715\n",
      "Epoch 5/25\n",
      "250/250 [==============================] - 199s 797ms/step - loss: 0.4105 - acc: 0.8174 - val_loss: 0.2660 - val_acc: 0.9119\n",
      "Epoch 6/25\n",
      "250/250 [==============================] - 102s 407ms/step - loss: 0.2593 - acc: 0.9024 - val_loss: 0.1917 - val_acc: 0.9334\n",
      "Epoch 7/25\n",
      "250/250 [==============================] - 119s 477ms/step - loss: 0.2219 - acc: 0.9196 - val_loss: 0.1612 - val_acc: 0.9462\n",
      "Epoch 8/25\n",
      "250/250 [==============================] - 130s 522ms/step - loss: 0.2206 - acc: 0.9154 - val_loss: 0.1829 - val_acc: 0.9357\n",
      "Epoch 9/25\n",
      "250/250 [==============================] - 107s 426ms/step - loss: 0.2005 - acc: 0.9267 - val_loss: 0.1476 - val_acc: 0.9487\n",
      "Epoch 10/25\n",
      "250/250 [==============================] - 212s 848ms/step - loss: 0.2047 - acc: 0.9274 - val_loss: 0.1759 - val_acc: 0.9360\n",
      "Epoch 11/25\n",
      "250/250 [==============================] - 151s 602ms/step - loss: 0.2065 - acc: 0.9271 - val_loss: 0.1774 - val_acc: 0.9425\n",
      "Epoch 12/25\n",
      "250/250 [==============================] - 105s 419ms/step - loss: 0.1779 - acc: 0.9359 - val_loss: 0.1849 - val_acc: 0.9325\n",
      "Epoch 13/25\n",
      "250/250 [==============================] - 154s 618ms/step - loss: 0.1962 - acc: 0.9284 - val_loss: 0.1553 - val_acc: 0.9504\n",
      "Epoch 14/25\n",
      "250/250 [==============================] - 167s 670ms/step - loss: 0.1676 - acc: 0.9400 - val_loss: 0.1471 - val_acc: 0.9476\n",
      "Epoch 15/25\n",
      "250/250 [==============================] - 258s 1s/step - loss: 0.1872 - acc: 0.9339 - val_loss: 0.1521 - val_acc: 0.9488\n",
      "Epoch 16/25\n",
      "250/250 [==============================] - 170s 681ms/step - loss: 0.1722 - acc: 0.9385 - val_loss: 0.1452 - val_acc: 0.9518\n",
      "Epoch 17/25\n",
      "250/250 [==============================] - 143s 574ms/step - loss: 0.1665 - acc: 0.9400 - val_loss: 0.1480 - val_acc: 0.9482\n",
      "Epoch 18/25\n",
      "250/250 [==============================] - 149s 596ms/step - loss: 0.1702 - acc: 0.9391 - val_loss: 0.1407 - val_acc: 0.9518\n",
      "Epoch 19/25\n",
      "250/250 [==============================] - 157s 630ms/step - loss: 0.1769 - acc: 0.9317 - val_loss: 0.1430 - val_acc: 0.9514\n",
      "Epoch 20/25\n",
      "250/250 [==============================] - 241s 966ms/step - loss: 0.1575 - acc: 0.9464 - val_loss: 0.1432 - val_acc: 0.9523\n",
      "Epoch 21/25\n",
      "250/250 [==============================] - 148s 591ms/step - loss: 0.1610 - acc: 0.9413 - val_loss: 0.1384 - val_acc: 0.9523\n",
      "Epoch 22/25\n",
      "250/250 [==============================] - 153s 612ms/step - loss: 0.1648 - acc: 0.9420 - val_loss: 0.1476 - val_acc: 0.9501\n",
      "Epoch 23/25\n",
      "250/250 [==============================] - 147s 588ms/step - loss: 0.1659 - acc: 0.9404 - val_loss: 0.1435 - val_acc: 0.9505\n",
      "Epoch 24/25\n",
      "250/250 [==============================] - 180s 719ms/step - loss: 0.1629 - acc: 0.9418 - val_loss: 0.1459 - val_acc: 0.9510\n",
      "Epoch 25/25\n",
      "250/250 [==============================] - 145s 581ms/step - loss: 0.1604 - acc: 0.9419 - val_loss: 0.1421 - val_acc: 0.9534\n"
     ]
    },
    {
     "data": {
      "text/plain": [
       "<keras.callbacks.History at 0x1379c83ecf8>"
      ]
     },
     "execution_count": 8,
     "metadata": {},
     "output_type": "execute_result"
    }
   ],
   "source": [
    "classifier.fit_generator(training_set,\n",
    "                        samples_per_epoch = 8000,\n",
    "                        nb_epoch = 25,\n",
    "                        validation_data = test_set,\n",
    "                        nb_val_samples = 2000)"
   ]
  },
  {
   "cell_type": "code",
   "execution_count": 16,
   "metadata": {},
   "outputs": [
    {
     "name": "stdout",
     "output_type": "stream",
     "text": [
      "Infected **\n"
     ]
    },
    {
     "data": {
      "text/plain": [
       "<matplotlib.image.AxesImage at 0x1379f3493c8>"
      ]
     },
     "execution_count": 16,
     "metadata": {},
     "output_type": "execute_result"
    },
    {
     "data": {
      "image/png": "[encoded data removed]",
      "text/plain": [
       "<Figure size 432x288 with 1 Axes>"
      ]
     },
     "metadata": {
      "needs_background": "light"
     },
     "output_type": "display_data"
    }
   ],
   "source": [
    "from matplotlib import pyplot as plt\n",
    "#test a new single image\n",
    "test_image1= image.load_img('cell_images/random1.png', target_size = (64,64))\n",
    "test_image = image.img_to_array(test_image1)\n",
    "test_image = np.expand_dims(test_image, axis=0)\n",
    "result = classifier.predict(test_image)\n",
    "training_set.class_indices\n",
    "\n",
    "if result[0][0]>= 0.5:\n",
    "    prediction= 'Not infected'\n",
    "else:\n",
    "    prediction = 'Infected **'\n",
    "\n",
    "print(prediction)\n",
    "plt.imshow(test_image1)"
   ]
  },
  {
   "cell_type": "code",
   "execution_count": 10,
   "metadata": {},
   "outputs": [
    {
     "name": "stdout",
     "output_type": "stream",
     "text": [
      "Infected **\n"
     ]
    },
    {
     "data": {
      "text/plain": [
       "<matplotlib.image.AxesImage at 0x1379ee2f550>"
      ]
     },
     "execution_count": 10,
     "metadata": {},
     "output_type": "execute_result"
    },
    {
     "data": {
      "image/png": "[encoded data removed]",
      "text/plain": [
       "<Figure size 432x288 with 1 Axes>"
      ]
     },
     "metadata": {
      "needs_background": "light"
     },
     "output_type": "display_data"
    }
   ],
   "source": [
    "#test a new single image\n",
    "test_image1= image.load_img('cell_images/random2.png', target_size = (64,64))\n",
    "test_image = image.img_to_array(test_image1)\n",
    "test_image = np.expand_dims(test_image, axis=0)\n",
    "result = classifier.predict(test_image)\n",
    "training_set.class_indices\n",
    "\n",
    "if result[0][0]>= 0.5:\n",
    "    prediction= 'Not infected'\n",
    "else:\n",
    "    prediction = 'Infected **'\n",
    "\n",
    "print(prediction)\n",
    "plt.imshow(test_image1)"
   ]
  },
  {
   "cell_type": "code",
   "execution_count": 11,
   "metadata": {},
   "outputs": [
    {
     "name": "stdout",
     "output_type": "stream",
     "text": [
      "Not infected\n"
     ]
    },
    {
     "data": {
      "text/plain": [
       "<matplotlib.image.AxesImage at 0x1379eea0a58>"
      ]
     },
     "execution_count": 11,
     "metadata": {},
     "output_type": "execute_result"
    },
    {
     "data": {
      "image/png": "[encoded data removed]",
      "text/plain": [
       "<Figure size 432x288 with 1 Axes>"
      ]
     },
     "metadata": {
      "needs_background": "light"
     },
     "output_type": "display_data"
    }
   ],
   "source": [
    "#test a new single image\n",
    "test_image1= image.load_img('cell_images/random3.png', target_size = (64,64))\n",
    "test_image = image.img_to_array(test_image1)\n",
    "test_image = np.expand_dims(test_image, axis=0)\n",
    "result = classifier.predict(test_image)\n",
    "training_set.class_indices\n",
    "\n",
    "if result[0][0]>= 0.5:\n",
    "    prediction= 'Not infected'\n",
    "else:\n",
    "    prediction = 'Infected **'\n",
    "\n",
    "print(prediction)\n",
    "plt.imshow(test_image1)"
   ]
  },
  {
   "cell_type": "code",
   "execution_count": 12,
   "metadata": {},
   "outputs": [
    {
     "name": "stdout",
     "output_type": "stream",
     "text": [
      "Infected **\n"
     ]
    },
    {
     "data": {
      "text/plain": [
       "<matplotlib.image.AxesImage at 0x1379efd9a90>"
      ]
     },
     "execution_count": 12,
     "metadata": {},
     "output_type": "execute_result"
    },
    {
     "data": {
      "image/png": "[encoded data removed]",
      "text/plain": [
       "<Figure size 432x288 with 1 Axes>"
      ]
     },
     "metadata": {
      "needs_background": "light"
     },
     "output_type": "display_data"
    }
   ],
   "source": [
    "#test a new single image\n",
    "test_image1= image.load_img('cell_images/random4.png', target_size = (64,64))\n",
    "test_image = image.img_to_array(test_image1)\n",
    "test_image = np.expand_dims(test_image, axis=0)\n",
    "result = classifier.predict(test_image)\n",
    "training_set.class_indices\n",
    "\n",
    "if result[0][0]>= 0.5:\n",
    "    prediction= 'Not infected'\n",
    "else:\n",
    "    prediction = 'Infected **'\n",
    "\n",
    "print(prediction)\n",
    "plt.imshow(test_image1)"
   ]
  },
  {
   "cell_type": "code",
   "execution_count": 13,
   "metadata": {},
   "outputs": [
    {
     "name": "stdout",
     "output_type": "stream",
     "text": [
      "Infected **\n"
     ]
    },
    {
     "data": {
      "text/plain": [
       "<matplotlib.image.AxesImage at 0x1379f03a908>"
      ]
     },
     "execution_count": 13,
     "metadata": {},
     "output_type": "execute_result"
    },
    {
     "data": {
      "image/png": "[encoded data removed]",
      "text/plain": [
       "<Figure size 432x288 with 1 Axes>"
      ]
     },
     "metadata": {
      "needs_background": "light"
     },
     "output_type": "display_data"
    }
   ],
   "source": [
    "#test a new single image\n",
    "test_image1= image.load_img('cell_images/random5.png', target_size = (64,64))\n",
    "test_image = image.img_to_array(test_image1)\n",
    "test_image = np.expand_dims(test_image, axis=0)\n",
    "result = classifier.predict(test_image)\n",
    "training_set.class_indices\n",
    "\n",
    "if result[0][0]>= 0.5:\n",
    "    prediction= 'Not infected'\n",
    "else:\n",
    "    prediction = 'Infected **'\n",
    "\n",
    "print(prediction)\n",
    "plt.imshow(test_image1)"
   ]
  },
  {
   "cell_type": "code",
   "execution_count": null,
   "metadata": {},
   "outputs": [],
   "source": []
  },
  {
   "cell_type": "code",
   "execution_count": null,
   "metadata": {},
   "outputs": [],
   "source": []
  }
 ],
 "metadata": {
  "kernelspec": {
   "display_name": "Python 3",
   "language": "python",
   "name": "python3"
  },
  "language_info": {
   "codemirror_mode": {
    "name": "ipython",
    "version": 3
   },
   "file_extension": ".py",
   "mimetype": "text/x-python",
   "name": "python",
   "nbconvert_exporter": "python",
   "pygments_lexer": "ipython3",
   "version": "3.6.9"
  }
 },
 "nbformat": 4,
 "nbformat_minor": 2
}
